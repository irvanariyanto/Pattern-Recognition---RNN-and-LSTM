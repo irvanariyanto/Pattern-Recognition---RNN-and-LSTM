{
 "cells": [
  {
   "cell_type": "code",
   "execution_count": 1,
   "metadata": {},
   "outputs": [],
   "source": [
    "import numpy as np\n",
    "import matplotlib.pyplot as plt\n",
    "import pandas as pd\n"
   ]
  },
  {
   "cell_type": "code",
   "execution_count": 2,
   "metadata": {},
   "outputs": [
    {
     "data": {
      "text/html": [
       "<div>\n",
       "<style scoped>\n",
       "    .dataframe tbody tr th:only-of-type {\n",
       "        vertical-align: middle;\n",
       "    }\n",
       "\n",
       "    .dataframe tbody tr th {\n",
       "        vertical-align: top;\n",
       "    }\n",
       "\n",
       "    .dataframe thead th {\n",
       "        text-align: right;\n",
       "    }\n",
       "</style>\n",
       "<table border=\"1\" class=\"dataframe\">\n",
       "  <thead>\n",
       "    <tr style=\"text-align: right;\">\n",
       "      <th></th>\n",
       "      <th>Date</th>\n",
       "      <th>Open</th>\n",
       "      <th>High</th>\n",
       "      <th>Low</th>\n",
       "      <th>Close</th>\n",
       "      <th>Adj Close</th>\n",
       "      <th>Volume</th>\n",
       "    </tr>\n",
       "  </thead>\n",
       "  <tbody>\n",
       "    <tr>\n",
       "      <th>0</th>\n",
       "      <td>2019-10-25</td>\n",
       "      <td>243.160004</td>\n",
       "      <td>246.729996</td>\n",
       "      <td>242.880005</td>\n",
       "      <td>246.580002</td>\n",
       "      <td>245.841919</td>\n",
       "      <td>18369300</td>\n",
       "    </tr>\n",
       "    <tr>\n",
       "      <th>1</th>\n",
       "      <td>2019-10-24</td>\n",
       "      <td>244.509995</td>\n",
       "      <td>244.800003</td>\n",
       "      <td>241.809998</td>\n",
       "      <td>243.580002</td>\n",
       "      <td>242.850891</td>\n",
       "      <td>17318800</td>\n",
       "    </tr>\n",
       "    <tr>\n",
       "      <th>2</th>\n",
       "      <td>2019-10-23</td>\n",
       "      <td>242.100006</td>\n",
       "      <td>243.240005</td>\n",
       "      <td>241.220001</td>\n",
       "      <td>243.179993</td>\n",
       "      <td>242.452087</td>\n",
       "      <td>18957200</td>\n",
       "    </tr>\n",
       "    <tr>\n",
       "      <th>3</th>\n",
       "      <td>2019-10-22</td>\n",
       "      <td>241.160004</td>\n",
       "      <td>242.199997</td>\n",
       "      <td>239.619995</td>\n",
       "      <td>239.960007</td>\n",
       "      <td>239.241745</td>\n",
       "      <td>20573400</td>\n",
       "    </tr>\n",
       "    <tr>\n",
       "      <th>4</th>\n",
       "      <td>2019-10-21</td>\n",
       "      <td>237.520004</td>\n",
       "      <td>240.990005</td>\n",
       "      <td>237.320007</td>\n",
       "      <td>240.509995</td>\n",
       "      <td>239.790085</td>\n",
       "      <td>21811800</td>\n",
       "    </tr>\n",
       "  </tbody>\n",
       "</table>\n",
       "</div>"
      ],
      "text/plain": [
       "         Date        Open        High         Low       Close   Adj Close  \\\n",
       "0  2019-10-25  243.160004  246.729996  242.880005  246.580002  245.841919   \n",
       "1  2019-10-24  244.509995  244.800003  241.809998  243.580002  242.850891   \n",
       "2  2019-10-23  242.100006  243.240005  241.220001  243.179993  242.452087   \n",
       "3  2019-10-22  241.160004  242.199997  239.619995  239.960007  239.241745   \n",
       "4  2019-10-21  237.520004  240.990005  237.320007  240.509995  239.790085   \n",
       "\n",
       "     Volume  \n",
       "0  18369300  \n",
       "1  17318800  \n",
       "2  18957200  \n",
       "3  20573400  \n",
       "4  21811800  "
      ]
     },
     "execution_count": 2,
     "metadata": {},
     "output_type": "execute_result"
    }
   ],
   "source": [
    "dataset_train = pd.read_csv('AAPL.csv')\n",
    "training_set = dataset_train.iloc[:, 1:2].values\n",
    "\n",
    "dataset_train.head()"
   ]
  },
  {
   "cell_type": "code",
   "execution_count": 3,
   "metadata": {},
   "outputs": [],
   "source": [
    "from sklearn.preprocessing import MinMaxScaler\n",
    "sc = MinMaxScaler(feature_range = (0,1))\n",
    "\n",
    "training_set_scaled = sc.fit_transform(training_set)"
   ]
  },
  {
   "cell_type": "code",
   "execution_count": 4,
   "metadata": {},
   "outputs": [],
   "source": [
    "X_train = []\n",
    "y_train = []\n",
    "for i in range(60, 2035):\n",
    "    X_train.append(training_set_scaled[i-60:i, 0])\n",
    "    y_train.append(training_set_scaled[i, 0])\n",
    "X_train, y_train = np.array(X_train), np.array(y_train)\n",
    "\n",
    "X_train = np.reshape(X_train, (y_train.shape[0], X_train.shape[1], 1))"
   ]
  },
  {
   "cell_type": "code",
   "execution_count": 5,
   "metadata": {},
   "outputs": [
    {
     "name": "stderr",
     "output_type": "stream",
     "text": [
      "Using TensorFlow backend.\n"
     ]
    }
   ],
   "source": [
    "from keras.models import Sequential\n",
    "from keras.layers import Dense\n",
    "from keras.layers import LSTM\n",
    "from keras.layers import Dropout"
   ]
  },
  {
   "cell_type": "code",
   "execution_count": null,
   "metadata": {},
   "outputs": [
    {
     "name": "stdout",
     "output_type": "stream",
     "text": [
      "Epoch 1/100\n",
      "1975/1975 [==============================] - 7s 3ms/step - loss: 0.0171\n",
      "Epoch 2/100\n",
      "1975/1975 [==============================] - 5s 3ms/step - loss: 0.0033\n",
      "Epoch 3/100\n",
      "1975/1975 [==============================] - 5s 2ms/step - loss: 0.0029\n",
      "Epoch 4/100\n",
      "1975/1975 [==============================] - 5s 2ms/step - loss: 0.0027\n",
      "Epoch 5/100\n",
      "1975/1975 [==============================] - 5s 2ms/step - loss: 0.0026\n",
      "Epoch 6/100\n",
      "1975/1975 [==============================] - 5s 3ms/step - loss: 0.0025\n",
      "Epoch 7/100\n",
      "1975/1975 [==============================] - 5s 3ms/step - loss: 0.0022\n",
      "Epoch 8/100\n",
      "1975/1975 [==============================] - 5s 3ms/step - loss: 0.0024\n",
      "Epoch 9/100\n",
      "1975/1975 [==============================] - 5s 3ms/step - loss: 0.0023\n",
      "Epoch 10/100\n",
      "1975/1975 [==============================] - 5s 3ms/step - loss: 0.0023\n",
      "Epoch 11/100\n",
      "1975/1975 [==============================] - 5s 3ms/step - loss: 0.0018\n",
      "Epoch 12/100\n",
      "1975/1975 [==============================] - 5s 3ms/step - loss: 0.0021\n",
      "Epoch 13/100\n",
      "1975/1975 [==============================] - 5s 3ms/step - loss: 0.0017\n",
      "Epoch 14/100\n",
      "1975/1975 [==============================] - 5s 3ms/step - loss: 0.0020\n",
      "Epoch 15/100\n",
      "1975/1975 [==============================] - 5s 3ms/step - loss: 0.0016\n",
      "Epoch 16/100\n",
      "  64/1975 [..............................] - ETA: 4s - loss: 0.0024"
     ]
    }
   ],
   "source": [
    "regressor = Sequential()\n",
    "\n",
    "regressor.add(LSTM(units = 50, return_sequences = True, input_shape = (X_train.shape[1], 1)))\n",
    "regressor.add(Dropout(0.2))\n",
    "\n",
    "regressor.add(LSTM(units = 50, return_sequences = True))\n",
    "regressor.add(Dropout(0.2))\n",
    "\n",
    "regressor.add(LSTM(units = 50, return_sequences = True))\n",
    "regressor.add(Dropout(0.2))\n",
    "\n",
    "regressor.add(LSTM(units = 50))\n",
    "regressor.add(Dropout(0.2))\n",
    "\n",
    "regressor.add(Dense(units = 1))\n",
    "\n",
    "regressor.compile(optimizer = 'adam', loss = 'mean_squared_error')\n",
    "\n",
    "regressor.fit(X_train, y_train, epochs = 100, batch_size = 32)"
   ]
  },
  {
   "cell_type": "code",
   "execution_count": null,
   "metadata": {},
   "outputs": [],
   "source": [
    "dataset_test = pd.read_csv('AAPL-TEST.csv')\n",
    "real_stock_price = dataset_test.iloc[:, 1:2].values\n",
    "dataset_total = pd.concat((dataset_train['Open'], dataset_test['Open']), axis = 0)\n",
    "inputs = dataset_total[len(dataset_total) - len(dataset_test) - 60:].values\n",
    "inputs = inputs.reshape(-1,1)\n",
    "inputs = sc.transform(inputs)\n",
    "\n",
    "X_test = []\n",
    "\n",
    "for i in range(60, 76):\n",
    "    X_test.append(inputs[i-60:i, 0])\n",
    "\n",
    "X_test = np.array(X_test)\n",
    "X_test = np.reshape(X_test, (X_test.shape[0], X_test.shape[1], 1))\n",
    "predicted_stock_price = regressor.predict(X_test)\n",
    "predicted_stock_price = sc.inverse_transform(predicted_stock_price)\n"
   ]
  },
  {
   "cell_type": "code",
   "execution_count": null,
   "metadata": {},
   "outputs": [],
   "source": [
    "plt.plot(real_stock_price, color = 'black', label = 'TATA Stock Price')\n",
    "plt.plot(predicted_stock_price, color = 'green', label = 'Predicted TATA Stock Price')\n",
    "plt.title('TATA Stock Price Prediction')\n",
    "plt.xlabel('Time')\n",
    "plt.ylabel('TATA Stock Price')\n",
    "plt.legend()\n",
    "plt.show()"
   ]
  },
  {
   "cell_type": "code",
   "execution_count": null,
   "metadata": {},
   "outputs": [],
   "source": []
  }
 ],
 "metadata": {
  "kernelspec": {
   "display_name": "Python 3",
   "language": "python",
   "name": "python3"
  },
  "language_info": {
   "codemirror_mode": {
    "name": "ipython",
    "version": 3
   },
   "file_extension": ".py",
   "mimetype": "text/x-python",
   "name": "python",
   "nbconvert_exporter": "python",
   "pygments_lexer": "ipython3",
   "version": "3.7.4"
  }
 },
 "nbformat": 4,
 "nbformat_minor": 2
}
